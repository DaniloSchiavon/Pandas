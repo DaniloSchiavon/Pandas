{
 "cells": [
  {
   "cell_type": "markdown",
   "metadata": {},
   "source": [
    "## Exercício 1: Vestibular\n",
    "\n",
    "Considere que a os dados gerados na célula abaixo contêm o número de acertos de 100 alunos em um vestibular para um curso de exatas, divididas pelos respectivos assuntos. Considere que cada assunto possui um número de questões conforme a tabela abaixo:\n",
    "\n",
    "| assunto | número de questões |\n",
    "|:---:|:---:|\n",
    "| Matemática | 24 |\n",
    "| Português | 18 |\n",
    "| Geografia | 8 |\n",
    "| Inglês | 8 |\n",
    "| História | 8 |\n",
    "| Física | 12 |\n",
    "| Química | 12 |\n",
    "\n",
    "Usando os comandos de operações com DataFrames que você aprendeu na Aula 03, calcule:\n",
    "\n",
    "1. (operações com escalar) Calcule o percentual de acerto dos alunos por assunto.  \n",
    "2. (operações entre *DataFrames) Calcule o total de acertos de cada aluno.  \n",
    "3. Calcule o porcentual geral de cada aluno.  \n",
    "4. Suponha que a nota de corte para a segunda fase seja 45. Quantos alunos tiveram nota maior que 45?  "
   ]
  },
  {
   "cell_type": "code",
   "execution_count": 63,
   "metadata": {},
   "outputs": [],
   "source": [
    "import pandas as pd\n",
    "import numpy as np\n",
    "\n",
    "np.random.seed(42)\n",
    "df_mat = pd.DataFrame(np.random.randint(24, size=(100, 1)), columns=['Qt_acertos'])\n",
    "\n",
    "df_por = pd.DataFrame(np.random.randint(18, size=(100, 1)), columns=['Qt_acertos'])\n",
    "\n",
    "df_geo = pd.DataFrame(np.random.randint(8, size=(100, 1)), columns=['Qt_acertos'])\n",
    "\n",
    "df_ing = pd.DataFrame(np.random.randint(8, size=(100, 1)), columns=['Qt_acertos'])\n",
    "\n",
    "df_his = pd.DataFrame(np.random.randint(8, size=(100, 1)), columns=['Qt_acertos'])\n",
    "\n",
    "df_fis = pd.DataFrame(np.random.randint(12, size=(100, 1)), columns=['Qt_acertos'])\n",
    "\n",
    "df_qui = pd.DataFrame(np.random.randint(12, size=(100, 1)), columns=['Qt_acertos'])\n",
    "\n",
    "# Para facilitar a atividade, vou consolidar os dados em um único dataframe:\n",
    "\n",
    "df_acertos = pd.concat([df_mat, df_por, df_geo, df_ing, df_his, df_fis, df_qui], axis=1)\n",
    "df_acertos.columns = ['Matemática', 'Português', 'Geografia', 'Inglês', 'História', 'Física', 'Química']"
   ]
  },
  {
   "cell_type": "code",
   "execution_count": 65,
   "metadata": {},
   "outputs": [
    {
     "name": "stdout",
     "output_type": "stream",
     "text": [
      "    Matemática  Português  Geografia  Inglês  História     Física    Química\n",
      "0    25.000000  38.888889       87.5    37.5      12.5  66.666667  25.000000\n",
      "1    79.166667  55.555556        0.0     0.0       0.0  91.666667  66.666667\n",
      "2    58.333333  88.888889        0.0    62.5      87.5  33.333333  33.333333\n",
      "3    41.666667  38.888889       37.5    50.0       0.0   0.000000  66.666667\n",
      "4    29.166667  11.111111       25.0    87.5       0.0  75.000000  25.000000\n",
      "..         ...        ...        ...     ...       ...        ...        ...\n",
      "95   25.000000  22.222222       87.5    12.5      50.0  75.000000  25.000000\n",
      "96   33.333333   5.555556       50.0    75.0      12.5  33.333333  25.000000\n",
      "97   95.833333  27.777778        0.0    25.0      50.0   8.333333  41.666667\n",
      "98    0.000000  55.555556       37.5    12.5      62.5  83.333333  91.666667\n",
      "99   45.833333  83.333333        0.0    12.5      75.0  58.333333  16.666667\n",
      "\n",
      "[100 rows x 7 columns]\n"
     ]
    }
   ],
   "source": [
    "# 1) (operações com escalar) Calcule o percentual de acerto dos alunos por assunto. \n",
    "# Seu código aqui\n",
    "num_questoes = {'Matemática': 24,'Português': 18,'Geografia': 8,'Inglês': 8,'História': 8,'Física': 12,'Química': 12}\n",
    "\n",
    "# Convertendo para DataFrame para facilitar as operações\n",
    "df_questoes = pd.DataFrame(num_questoes, index=['Número de Questões'])\n",
    "\n",
    "# Calculando o percentual de acertos\n",
    "percentual_acertos = (df_acertos / df_questoes.loc['Número de Questões']) * 100\n",
    "print(percentual_acertos)"
   ]
  },
  {
   "cell_type": "code",
   "execution_count": 69,
   "metadata": {},
   "outputs": [
    {
     "name": "stdout",
     "output_type": "stream",
     "text": [
      "0     35\n",
      "1     48\n",
      "2     50\n",
      "3     32\n",
      "4     30\n",
      "      ..\n",
      "95    34\n",
      "96    27\n",
      "97    40\n",
      "98    40\n",
      "99    42\n",
      "Length: 100, dtype: int64\n"
     ]
    }
   ],
   "source": [
    "# 2) (operações entre *DataFrames) Calcule o total de acertos de cada aluno.\n",
    "# Seu código aqui\n",
    "total_acertos = df_acertos.sum(axis=1)\n",
    "print(total_acertos)"
   ]
  },
  {
   "cell_type": "code",
   "execution_count": 71,
   "metadata": {},
   "outputs": [
    {
     "name": "stdout",
     "output_type": "stream",
     "text": [
      "0     38.888889\n",
      "1     53.333333\n",
      "2     55.555556\n",
      "3     35.555556\n",
      "4     33.333333\n",
      "        ...    \n",
      "95    37.777778\n",
      "96    30.000000\n",
      "97    44.444444\n",
      "98    44.444444\n",
      "99    46.666667\n",
      "Length: 100, dtype: float64\n"
     ]
    }
   ],
   "source": [
    "# 3) Calcule o porcentual geral de cada aluno.\n",
    "# Seu código aqui\n",
    "total_questoes = df_questoes.loc['Número de Questões'].sum()\n",
    "percentual_geral = (total_acertos / total_questoes) * 100\n",
    "print(percentual_geral)"
   ]
  },
  {
   "cell_type": "code",
   "execution_count": 73,
   "metadata": {},
   "outputs": [
    {
     "name": "stdout",
     "output_type": "stream",
     "text": [
      "31\n"
     ]
    }
   ],
   "source": [
    "# 4) Suponha que a nota de corte para a segunda fase seja 45. Quantos alunos tiveram nota maior que 45?\n",
    "# Seu código aqui\n",
    "nota_corte = 45\n",
    "alunos_acima_corte = total_acertos[total_acertos > nota_corte].count()\n",
    "print(alunos_acima_corte)\n"
   ]
  },
  {
   "cell_type": "markdown",
   "metadata": {},
   "source": [
    "## 2) Vestibular II\n",
    "\n",
    "Ainda sobre o mesmo banco de dados:\n",
    "\n",
    "1. Neste vestibular, quem 'zera' em matemática, física ou química está desqualificado. Monte um novo *DataFrame* com os alunos desqualificados por este critério.\n",
    "2. Quantos são esses alunos?\n",
    "3. Qual a média desses alunos em história e geografia?\n",
    "4. Monte um *DataFrame* com os alunos que passaram para a segunda fase. Repare que estes alunos não podem ter sido desqualificados."
   ]
  },
  {
   "cell_type": "code",
   "execution_count": 75,
   "metadata": {},
   "outputs": [
    {
     "name": "stdout",
     "output_type": "stream",
     "text": [
      "    Matemática  Português  Geografia  Inglês  História  Física  Química\n",
      "3           10          7          3       4         0       0        8\n",
      "6            6          0          7       7         5       0        4\n",
      "10          10          8          3       2         1       7        0\n",
      "12          20          8          3       7         1       0        3\n",
      "14           7         11          1       7         1       4        0\n",
      "20          23         11          6       5         6       2        0\n",
      "25           0          4          7       4         0       4        8\n",
      "26          11         14          6       2         7       0        0\n",
      "27          21         13          1       5         7       3        0\n",
      "33          14          8          0       5         6       6        0\n",
      "35          11         14          6       3         3       0       11\n",
      "49           8          1          1       0         1       0        8\n",
      "56           7          6          7       5         6       0        8\n",
      "65           1          8          2       4         3       0        6\n",
      "66           5          4          3       6         3       0       10\n",
      "72          11         16          3       4         7       0        9\n",
      "73           1         16          2       4         3       0       11\n",
      "74           9         11          0       7         5       7        0\n",
      "84          15          1          0       5         1       0        4\n",
      "89          23         11          7       7         6       9        0\n",
      "92          14         10          1       6         1       8        0\n",
      "94           0          5          2       6         1       3        8\n",
      "98           0         10          3       1         5      10       11\n"
     ]
    }
   ],
   "source": [
    "# seu código aqui\n",
    "#Questão 01:\n",
    "desqualificados = df_acertos[(df_acertos['Matemática'] == 0) | (df_acertos['Física'] == 0) | (df_acertos['Química'] == 0)]\n",
    "print(desqualificados)"
   ]
  },
  {
   "cell_type": "code",
   "execution_count": 77,
   "metadata": {},
   "outputs": [
    {
     "name": "stdout",
     "output_type": "stream",
     "text": [
      "23\n"
     ]
    }
   ],
   "source": [
    "# 02) Quantos são esses alunos?\n",
    "num_desqualificados = desqualificados.shape[0]\n",
    "print(num_desqualificados)"
   ]
  },
  {
   "cell_type": "code",
   "execution_count": 79,
   "metadata": {},
   "outputs": [
    {
     "name": "stdout",
     "output_type": "stream",
     "text": [
      "História     3.434783\n",
      "Geografia    3.217391\n",
      "dtype: float64\n"
     ]
    }
   ],
   "source": [
    "# Questão 03: Qual a média desses alunos em história e geografia?\n",
    "media_hist_geo_desqualificados = desqualificados[['História', 'Geografia']].mean()\n",
    "print(media_hist_geo_desqualificados)"
   ]
  },
  {
   "cell_type": "code",
   "execution_count": 81,
   "metadata": {},
   "outputs": [
    {
     "name": "stdout",
     "output_type": "stream",
     "text": [
      "    Matemática  Português  Geografia  Inglês  História  Física  Química\n",
      "1           19         10          0       0         0      11        8\n",
      "2           14         16          0       5         7       4        4\n",
      "5           20          2          5       3         2       9        9\n",
      "7           18          4          4       7         7       1        8\n",
      "8           22          9          2       7         6       5        7\n",
      "17          21         15          2       2         4       2        6\n",
      "18          20          4          3       5         3      11        4\n",
      "24          20          2          7       5         3      11        2\n",
      "31          15         13          3       1         3       9       10\n",
      "36          22          9          6       6         1       4        8\n",
      "37          19         12          5       7         1       6        2\n",
      "39           4         16          2       4         6       9        8\n",
      "40          18          3          6       3         6       5        6\n",
      "42          20          6          7       7         2       3        3\n",
      "45          17         10          0       2         6       9        4\n",
      "48          17          6          0       7         5       9       11\n",
      "60          16          8          0       4         4       7        9\n",
      "62          17          6          2       4         7       1        9\n",
      "67          21          0          7       2         4       2       10\n",
      "70          21         14          0       3         5      11        8\n",
      "71          17          8          7       6         4       2        9\n",
      "77          15          2          5       7         6      11        7\n",
      "78          14         16          7       2         7      11        9\n",
      "81          22         16          2       0         4       1       10\n",
      "88          20          1          1       5         7       9        7\n",
      "93          12         16          5       5         6       6        6\n"
     ]
    },
    {
     "name": "stderr",
     "output_type": "stream",
     "text": [
      "C:\\Users\\suporte\\AppData\\Local\\Temp\\ipykernel_21452\\4277859535.py:3: UserWarning: Boolean Series key will be reindexed to match DataFrame index.\n",
      "  alunos_passaram = qualificados[total_acertos > nota_corte]\n"
     ]
    }
   ],
   "source": [
    "# Questõa 04: Monte um *DataFrame* com os alunos que passaram para a segunda fase. Repare que estes alunos não podem ter sido desqualificados.\n",
    "qualificados = df_acertos[~df_acertos.index.isin(desqualificados.index)]\n",
    "alunos_passaram = qualificados[total_acertos > nota_corte]\n",
    "print(alunos_passaram)"
   ]
  },
  {
   "cell_type": "markdown",
   "metadata": {},
   "source": [
    "## 3) Vacinações no Acre\n",
    "Vamos trabalhar agora com a base de vacinações no Acre. Para facilitar a sua vida, copiamos o link do arquivo na célula abaixo.\n",
    "\n",
    "1. Quantas vacinas estão registradas nessa base?  \n",
    "2. Quantos pacientes foram vacinados? (considere um paciente para cada valor único de ```paciente_id```)  \n",
    "3. Quantos pacientes únicos tomaram a primeira dose? OBS: Há um caractere especial neste campo. Receba os valores do campo com o método ```.unique()```.   \n",
    "4. Quantos pacientes com menos de 18 anos foram vacinados?  \n",
    "5. Quantos estabelecimentos aplicaram vacina no Acre?\n",
    "\n",
    "\n",
    "**OBS:** O portal do DATASUS pode apresentar instabilidades, retornando um erro na segunda célula abaixo. Por este motivo está disponível uma base estática, que se for baixada para o seu *working directory* pode ser lida com este comando: ```df = pd.read_csv('registros de vacinacao covid ACRE.csv', sep=';')```.\n",
    "\n",
    "**OBS2:** Para saber qual é o seu working directory, rode no jupyter: ```!pwd```."
   ]
  },
  {
   "cell_type": "code",
   "execution_count": 29,
   "metadata": {},
   "outputs": [
    {
     "data": {
      "text/html": [
       "<div>\n",
       "<style scoped>\n",
       "    .dataframe tbody tr th:only-of-type {\n",
       "        vertical-align: middle;\n",
       "    }\n",
       "\n",
       "    .dataframe tbody tr th {\n",
       "        vertical-align: top;\n",
       "    }\n",
       "\n",
       "    .dataframe thead th {\n",
       "        text-align: right;\n",
       "    }\n",
       "</style>\n",
       "<table border=\"1\" class=\"dataframe\">\n",
       "  <thead>\n",
       "    <tr style=\"text-align: right;\">\n",
       "      <th></th>\n",
       "      <th>document_id</th>\n",
       "      <th>paciente_id</th>\n",
       "      <th>paciente_idade</th>\n",
       "      <th>paciente_dataNascimento</th>\n",
       "      <th>paciente_enumSexoBiologico</th>\n",
       "      <th>paciente_racaCor_codigo</th>\n",
       "      <th>paciente_racaCor_valor</th>\n",
       "      <th>paciente_endereco_coIbgeMunicipio</th>\n",
       "      <th>paciente_endereco_coPais</th>\n",
       "      <th>paciente_endereco_nmMunicipio</th>\n",
       "      <th>...</th>\n",
       "      <th>vacina_categoria_codigo</th>\n",
       "      <th>vacina_categoria_nome</th>\n",
       "      <th>vacina_lote</th>\n",
       "      <th>vacina_fabricante_nome</th>\n",
       "      <th>vacina_fabricante_referencia</th>\n",
       "      <th>vacina_dataAplicacao</th>\n",
       "      <th>vacina_descricao_dose</th>\n",
       "      <th>vacina_codigo</th>\n",
       "      <th>vacina_nome</th>\n",
       "      <th>sistema_origem</th>\n",
       "    </tr>\n",
       "  </thead>\n",
       "  <tbody>\n",
       "    <tr>\n",
       "      <th>0</th>\n",
       "      <td>c4fe1c06-9d03-4fb3-9f09-d03ae04172ed-i0b0</td>\n",
       "      <td>b04dc8dc9a414410e7defb82eedd78ffeba9326ffe2a5e...</td>\n",
       "      <td>14</td>\n",
       "      <td>2007-04-05</td>\n",
       "      <td>F</td>\n",
       "      <td>99</td>\n",
       "      <td>SEM INFORMACAO</td>\n",
       "      <td>120040.0</td>\n",
       "      <td>10.0</td>\n",
       "      <td>RIO BRANCO</td>\n",
       "      <td>...</td>\n",
       "      <td>2.0</td>\n",
       "      <td>Faixa Etária</td>\n",
       "      <td>FA9096</td>\n",
       "      <td>PFIZER</td>\n",
       "      <td>Organization/00394544000851</td>\n",
       "      <td>2021-08-11</td>\n",
       "      <td>1ª Dose</td>\n",
       "      <td>87</td>\n",
       "      <td>COVID-19 PFIZER - COMIRNATY</td>\n",
       "      <td>Novo PNI</td>\n",
       "    </tr>\n",
       "    <tr>\n",
       "      <th>1</th>\n",
       "      <td>f455ecd1-303a-4ca5-8197-549be4f11977-i0b0</td>\n",
       "      <td>41a3e2c2e8bbfbcaa2b9a1959b20a57ad3b610fe407fa7...</td>\n",
       "      <td>68</td>\n",
       "      <td>1954-07-17</td>\n",
       "      <td>F</td>\n",
       "      <td>1</td>\n",
       "      <td>BRANCA</td>\n",
       "      <td>120040.0</td>\n",
       "      <td>10.0</td>\n",
       "      <td>RIO BRANCO</td>\n",
       "      <td>...</td>\n",
       "      <td>3.0</td>\n",
       "      <td>Pessoas de 60 anos ou mais institucionalizadas</td>\n",
       "      <td>21PVCD389W</td>\n",
       "      <td>ASTRAZENECA/FIOCRUZ</td>\n",
       "      <td>149</td>\n",
       "      <td>2022-07-20</td>\n",
       "      <td>2º Reforço</td>\n",
       "      <td>85</td>\n",
       "      <td>COVID-19 ASTRAZENECA/FIOCRUZ - COVISHIELD</td>\n",
       "      <td>Novo PNI</td>\n",
       "    </tr>\n",
       "    <tr>\n",
       "      <th>2</th>\n",
       "      <td>ea959b1f-c617-41f3-9114-3b3d8e6efb74-i0b0</td>\n",
       "      <td>c71ae47ddab9e6bf4268c9d247781644a51f606208aa2f...</td>\n",
       "      <td>17</td>\n",
       "      <td>2003-12-31</td>\n",
       "      <td>F</td>\n",
       "      <td>4</td>\n",
       "      <td>AMARELA</td>\n",
       "      <td>120040.0</td>\n",
       "      <td>10.0</td>\n",
       "      <td>RIO BRANCO</td>\n",
       "      <td>...</td>\n",
       "      <td>2.0</td>\n",
       "      <td>Faixa Etária</td>\n",
       "      <td>FD7208</td>\n",
       "      <td>PFIZER</td>\n",
       "      <td>Organization/00394544000851</td>\n",
       "      <td>2021-09-11</td>\n",
       "      <td>1ª Dose</td>\n",
       "      <td>87</td>\n",
       "      <td>COVID-19 PFIZER - COMIRNATY</td>\n",
       "      <td>Novo PNI</td>\n",
       "    </tr>\n",
       "    <tr>\n",
       "      <th>3</th>\n",
       "      <td>f4a30b65-8b98-426d-aa50-54451ff6c855-i0b0</td>\n",
       "      <td>35ddc31c7e4bb784827bfcbea1aabab570d84c452c1654...</td>\n",
       "      <td>21</td>\n",
       "      <td>2001-07-30</td>\n",
       "      <td>F</td>\n",
       "      <td>3</td>\n",
       "      <td>PARDA</td>\n",
       "      <td>120020.0</td>\n",
       "      <td>10.0</td>\n",
       "      <td>CRUZEIRO DO SUL</td>\n",
       "      <td>...</td>\n",
       "      <td>2.0</td>\n",
       "      <td>Faixa Etária</td>\n",
       "      <td>202001</td>\n",
       "      <td>PFIZER</td>\n",
       "      <td>28290</td>\n",
       "      <td>2022-08-02</td>\n",
       "      <td>2º Reforço</td>\n",
       "      <td>87</td>\n",
       "      <td>COVID-19 PFIZER - COMIRNATY</td>\n",
       "      <td>Novo PNI</td>\n",
       "    </tr>\n",
       "    <tr>\n",
       "      <th>4</th>\n",
       "      <td>f8c190bd-99f5-4426-8660-287026cb8f38-i0b0</td>\n",
       "      <td>146286fb0daf52953daa7aa2fb5b8dffc16a53269530aa...</td>\n",
       "      <td>17</td>\n",
       "      <td>2004-10-30</td>\n",
       "      <td>M</td>\n",
       "      <td>1</td>\n",
       "      <td>BRANCA</td>\n",
       "      <td>120010.0</td>\n",
       "      <td>10.0</td>\n",
       "      <td>BRASILEIA</td>\n",
       "      <td>...</td>\n",
       "      <td>114.0</td>\n",
       "      <td>Outros</td>\n",
       "      <td>21OVCD350Z</td>\n",
       "      <td>ASTRAZENECA/FIOCRUZ</td>\n",
       "      <td>149</td>\n",
       "      <td>2022-06-21</td>\n",
       "      <td>Reforço</td>\n",
       "      <td>85</td>\n",
       "      <td>COVID-19 ASTRAZENECA/FIOCRUZ - COVISHIELD</td>\n",
       "      <td>Novo PNI</td>\n",
       "    </tr>\n",
       "  </tbody>\n",
       "</table>\n",
       "<p>5 rows × 32 columns</p>\n",
       "</div>"
      ],
      "text/plain": [
       "                                 document_id  \\\n",
       "0  c4fe1c06-9d03-4fb3-9f09-d03ae04172ed-i0b0   \n",
       "1  f455ecd1-303a-4ca5-8197-549be4f11977-i0b0   \n",
       "2  ea959b1f-c617-41f3-9114-3b3d8e6efb74-i0b0   \n",
       "3  f4a30b65-8b98-426d-aa50-54451ff6c855-i0b0   \n",
       "4  f8c190bd-99f5-4426-8660-287026cb8f38-i0b0   \n",
       "\n",
       "                                         paciente_id  paciente_idade  \\\n",
       "0  b04dc8dc9a414410e7defb82eedd78ffeba9326ffe2a5e...              14   \n",
       "1  41a3e2c2e8bbfbcaa2b9a1959b20a57ad3b610fe407fa7...              68   \n",
       "2  c71ae47ddab9e6bf4268c9d247781644a51f606208aa2f...              17   \n",
       "3  35ddc31c7e4bb784827bfcbea1aabab570d84c452c1654...              21   \n",
       "4  146286fb0daf52953daa7aa2fb5b8dffc16a53269530aa...              17   \n",
       "\n",
       "  paciente_dataNascimento paciente_enumSexoBiologico  paciente_racaCor_codigo  \\\n",
       "0              2007-04-05                          F                       99   \n",
       "1              1954-07-17                          F                        1   \n",
       "2              2003-12-31                          F                        4   \n",
       "3              2001-07-30                          F                        3   \n",
       "4              2004-10-30                          M                        1   \n",
       "\n",
       "  paciente_racaCor_valor  paciente_endereco_coIbgeMunicipio  \\\n",
       "0         SEM INFORMACAO                           120040.0   \n",
       "1                 BRANCA                           120040.0   \n",
       "2                AMARELA                           120040.0   \n",
       "3                  PARDA                           120020.0   \n",
       "4                 BRANCA                           120010.0   \n",
       "\n",
       "   paciente_endereco_coPais paciente_endereco_nmMunicipio  ...  \\\n",
       "0                      10.0                    RIO BRANCO  ...   \n",
       "1                      10.0                    RIO BRANCO  ...   \n",
       "2                      10.0                    RIO BRANCO  ...   \n",
       "3                      10.0               CRUZEIRO DO SUL  ...   \n",
       "4                      10.0                     BRASILEIA  ...   \n",
       "\n",
       "  vacina_categoria_codigo                           vacina_categoria_nome  \\\n",
       "0                     2.0                                    Faixa Etária   \n",
       "1                     3.0  Pessoas de 60 anos ou mais institucionalizadas   \n",
       "2                     2.0                                    Faixa Etária   \n",
       "3                     2.0                                    Faixa Etária   \n",
       "4                   114.0                                          Outros   \n",
       "\n",
       "   vacina_lote vacina_fabricante_nome  vacina_fabricante_referencia  \\\n",
       "0       FA9096                 PFIZER   Organization/00394544000851   \n",
       "1   21PVCD389W    ASTRAZENECA/FIOCRUZ                           149   \n",
       "2       FD7208                 PFIZER   Organization/00394544000851   \n",
       "3       202001                 PFIZER                         28290   \n",
       "4   21OVCD350Z    ASTRAZENECA/FIOCRUZ                           149   \n",
       "\n",
       "  vacina_dataAplicacao vacina_descricao_dose  vacina_codigo  \\\n",
       "0           2021-08-11               1ª Dose             87   \n",
       "1           2022-07-20            2º Reforço             85   \n",
       "2           2021-09-11               1ª Dose             87   \n",
       "3           2022-08-02            2º Reforço             87   \n",
       "4           2022-06-21               Reforço             85   \n",
       "\n",
       "                                 vacina_nome sistema_origem  \n",
       "0                COVID-19 PFIZER - COMIRNATY       Novo PNI  \n",
       "1  COVID-19 ASTRAZENECA/FIOCRUZ - COVISHIELD       Novo PNI  \n",
       "2                COVID-19 PFIZER - COMIRNATY       Novo PNI  \n",
       "3                COVID-19 PFIZER - COMIRNATY       Novo PNI  \n",
       "4  COVID-19 ASTRAZENECA/FIOCRUZ - COVISHIELD       Novo PNI  \n",
       "\n",
       "[5 rows x 32 columns]"
      ]
     },
     "execution_count": 29,
     "metadata": {},
     "output_type": "execute_result"
    }
   ],
   "source": [
    "import pandas as pd\n",
    "import numpy as np\n"
   ]
  },
  {
   "cell_type": "code",
   "execution_count": 31,
   "metadata": {},
   "outputs": [
    {
     "data": {
      "text/html": [
       "<div>\n",
       "<style scoped>\n",
       "    .dataframe tbody tr th:only-of-type {\n",
       "        vertical-align: middle;\n",
       "    }\n",
       "\n",
       "    .dataframe tbody tr th {\n",
       "        vertical-align: top;\n",
       "    }\n",
       "\n",
       "    .dataframe thead th {\n",
       "        text-align: right;\n",
       "    }\n",
       "</style>\n",
       "<table border=\"1\" class=\"dataframe\">\n",
       "  <thead>\n",
       "    <tr style=\"text-align: right;\">\n",
       "      <th></th>\n",
       "      <th>document_id</th>\n",
       "      <th>paciente_id</th>\n",
       "      <th>paciente_idade</th>\n",
       "      <th>paciente_dataNascimento</th>\n",
       "      <th>paciente_enumSexoBiologico</th>\n",
       "      <th>paciente_racaCor_codigo</th>\n",
       "      <th>paciente_racaCor_valor</th>\n",
       "      <th>paciente_endereco_coIbgeMunicipio</th>\n",
       "      <th>paciente_endereco_coPais</th>\n",
       "      <th>paciente_endereco_nmMunicipio</th>\n",
       "      <th>...</th>\n",
       "      <th>vacina_categoria_codigo</th>\n",
       "      <th>vacina_categoria_nome</th>\n",
       "      <th>vacina_lote</th>\n",
       "      <th>vacina_fabricante_nome</th>\n",
       "      <th>vacina_fabricante_referencia</th>\n",
       "      <th>vacina_dataAplicacao</th>\n",
       "      <th>vacina_descricao_dose</th>\n",
       "      <th>vacina_codigo</th>\n",
       "      <th>vacina_nome</th>\n",
       "      <th>sistema_origem</th>\n",
       "    </tr>\n",
       "  </thead>\n",
       "  <tbody>\n",
       "    <tr>\n",
       "      <th>0</th>\n",
       "      <td>c4fe1c06-9d03-4fb3-9f09-d03ae04172ed-i0b0</td>\n",
       "      <td>b04dc8dc9a414410e7defb82eedd78ffeba9326ffe2a5e...</td>\n",
       "      <td>14</td>\n",
       "      <td>2007-04-05</td>\n",
       "      <td>F</td>\n",
       "      <td>99</td>\n",
       "      <td>SEM INFORMACAO</td>\n",
       "      <td>120040.0</td>\n",
       "      <td>10.0</td>\n",
       "      <td>RIO BRANCO</td>\n",
       "      <td>...</td>\n",
       "      <td>2.0</td>\n",
       "      <td>Faixa Etária</td>\n",
       "      <td>FA9096</td>\n",
       "      <td>PFIZER</td>\n",
       "      <td>Organization/00394544000851</td>\n",
       "      <td>2021-08-11</td>\n",
       "      <td>1ª Dose</td>\n",
       "      <td>87</td>\n",
       "      <td>COVID-19 PFIZER - COMIRNATY</td>\n",
       "      <td>Novo PNI</td>\n",
       "    </tr>\n",
       "    <tr>\n",
       "      <th>1</th>\n",
       "      <td>f455ecd1-303a-4ca5-8197-549be4f11977-i0b0</td>\n",
       "      <td>41a3e2c2e8bbfbcaa2b9a1959b20a57ad3b610fe407fa7...</td>\n",
       "      <td>68</td>\n",
       "      <td>1954-07-17</td>\n",
       "      <td>F</td>\n",
       "      <td>1</td>\n",
       "      <td>BRANCA</td>\n",
       "      <td>120040.0</td>\n",
       "      <td>10.0</td>\n",
       "      <td>RIO BRANCO</td>\n",
       "      <td>...</td>\n",
       "      <td>3.0</td>\n",
       "      <td>Pessoas de 60 anos ou mais institucionalizadas</td>\n",
       "      <td>21PVCD389W</td>\n",
       "      <td>ASTRAZENECA/FIOCRUZ</td>\n",
       "      <td>149</td>\n",
       "      <td>2022-07-20</td>\n",
       "      <td>2º Reforço</td>\n",
       "      <td>85</td>\n",
       "      <td>COVID-19 ASTRAZENECA/FIOCRUZ - COVISHIELD</td>\n",
       "      <td>Novo PNI</td>\n",
       "    </tr>\n",
       "    <tr>\n",
       "      <th>2</th>\n",
       "      <td>ea959b1f-c617-41f3-9114-3b3d8e6efb74-i0b0</td>\n",
       "      <td>c71ae47ddab9e6bf4268c9d247781644a51f606208aa2f...</td>\n",
       "      <td>17</td>\n",
       "      <td>2003-12-31</td>\n",
       "      <td>F</td>\n",
       "      <td>4</td>\n",
       "      <td>AMARELA</td>\n",
       "      <td>120040.0</td>\n",
       "      <td>10.0</td>\n",
       "      <td>RIO BRANCO</td>\n",
       "      <td>...</td>\n",
       "      <td>2.0</td>\n",
       "      <td>Faixa Etária</td>\n",
       "      <td>FD7208</td>\n",
       "      <td>PFIZER</td>\n",
       "      <td>Organization/00394544000851</td>\n",
       "      <td>2021-09-11</td>\n",
       "      <td>1ª Dose</td>\n",
       "      <td>87</td>\n",
       "      <td>COVID-19 PFIZER - COMIRNATY</td>\n",
       "      <td>Novo PNI</td>\n",
       "    </tr>\n",
       "    <tr>\n",
       "      <th>3</th>\n",
       "      <td>f4a30b65-8b98-426d-aa50-54451ff6c855-i0b0</td>\n",
       "      <td>35ddc31c7e4bb784827bfcbea1aabab570d84c452c1654...</td>\n",
       "      <td>21</td>\n",
       "      <td>2001-07-30</td>\n",
       "      <td>F</td>\n",
       "      <td>3</td>\n",
       "      <td>PARDA</td>\n",
       "      <td>120020.0</td>\n",
       "      <td>10.0</td>\n",
       "      <td>CRUZEIRO DO SUL</td>\n",
       "      <td>...</td>\n",
       "      <td>2.0</td>\n",
       "      <td>Faixa Etária</td>\n",
       "      <td>202001</td>\n",
       "      <td>PFIZER</td>\n",
       "      <td>28290</td>\n",
       "      <td>2022-08-02</td>\n",
       "      <td>2º Reforço</td>\n",
       "      <td>87</td>\n",
       "      <td>COVID-19 PFIZER - COMIRNATY</td>\n",
       "      <td>Novo PNI</td>\n",
       "    </tr>\n",
       "    <tr>\n",
       "      <th>4</th>\n",
       "      <td>f8c190bd-99f5-4426-8660-287026cb8f38-i0b0</td>\n",
       "      <td>146286fb0daf52953daa7aa2fb5b8dffc16a53269530aa...</td>\n",
       "      <td>17</td>\n",
       "      <td>2004-10-30</td>\n",
       "      <td>M</td>\n",
       "      <td>1</td>\n",
       "      <td>BRANCA</td>\n",
       "      <td>120010.0</td>\n",
       "      <td>10.0</td>\n",
       "      <td>BRASILEIA</td>\n",
       "      <td>...</td>\n",
       "      <td>114.0</td>\n",
       "      <td>Outros</td>\n",
       "      <td>21OVCD350Z</td>\n",
       "      <td>ASTRAZENECA/FIOCRUZ</td>\n",
       "      <td>149</td>\n",
       "      <td>2022-06-21</td>\n",
       "      <td>Reforço</td>\n",
       "      <td>85</td>\n",
       "      <td>COVID-19 ASTRAZENECA/FIOCRUZ - COVISHIELD</td>\n",
       "      <td>Novo PNI</td>\n",
       "    </tr>\n",
       "  </tbody>\n",
       "</table>\n",
       "<p>5 rows × 32 columns</p>\n",
       "</div>"
      ],
      "text/plain": [
       "                                 document_id  \\\n",
       "0  c4fe1c06-9d03-4fb3-9f09-d03ae04172ed-i0b0   \n",
       "1  f455ecd1-303a-4ca5-8197-549be4f11977-i0b0   \n",
       "2  ea959b1f-c617-41f3-9114-3b3d8e6efb74-i0b0   \n",
       "3  f4a30b65-8b98-426d-aa50-54451ff6c855-i0b0   \n",
       "4  f8c190bd-99f5-4426-8660-287026cb8f38-i0b0   \n",
       "\n",
       "                                         paciente_id  paciente_idade  \\\n",
       "0  b04dc8dc9a414410e7defb82eedd78ffeba9326ffe2a5e...              14   \n",
       "1  41a3e2c2e8bbfbcaa2b9a1959b20a57ad3b610fe407fa7...              68   \n",
       "2  c71ae47ddab9e6bf4268c9d247781644a51f606208aa2f...              17   \n",
       "3  35ddc31c7e4bb784827bfcbea1aabab570d84c452c1654...              21   \n",
       "4  146286fb0daf52953daa7aa2fb5b8dffc16a53269530aa...              17   \n",
       "\n",
       "  paciente_dataNascimento paciente_enumSexoBiologico  paciente_racaCor_codigo  \\\n",
       "0              2007-04-05                          F                       99   \n",
       "1              1954-07-17                          F                        1   \n",
       "2              2003-12-31                          F                        4   \n",
       "3              2001-07-30                          F                        3   \n",
       "4              2004-10-30                          M                        1   \n",
       "\n",
       "  paciente_racaCor_valor  paciente_endereco_coIbgeMunicipio  \\\n",
       "0         SEM INFORMACAO                           120040.0   \n",
       "1                 BRANCA                           120040.0   \n",
       "2                AMARELA                           120040.0   \n",
       "3                  PARDA                           120020.0   \n",
       "4                 BRANCA                           120010.0   \n",
       "\n",
       "   paciente_endereco_coPais paciente_endereco_nmMunicipio  ...  \\\n",
       "0                      10.0                    RIO BRANCO  ...   \n",
       "1                      10.0                    RIO BRANCO  ...   \n",
       "2                      10.0                    RIO BRANCO  ...   \n",
       "3                      10.0               CRUZEIRO DO SUL  ...   \n",
       "4                      10.0                     BRASILEIA  ...   \n",
       "\n",
       "  vacina_categoria_codigo                           vacina_categoria_nome  \\\n",
       "0                     2.0                                    Faixa Etária   \n",
       "1                     3.0  Pessoas de 60 anos ou mais institucionalizadas   \n",
       "2                     2.0                                    Faixa Etária   \n",
       "3                     2.0                                    Faixa Etária   \n",
       "4                   114.0                                          Outros   \n",
       "\n",
       "   vacina_lote vacina_fabricante_nome  vacina_fabricante_referencia  \\\n",
       "0       FA9096                 PFIZER   Organization/00394544000851   \n",
       "1   21PVCD389W    ASTRAZENECA/FIOCRUZ                           149   \n",
       "2       FD7208                 PFIZER   Organization/00394544000851   \n",
       "3       202001                 PFIZER                         28290   \n",
       "4   21OVCD350Z    ASTRAZENECA/FIOCRUZ                           149   \n",
       "\n",
       "  vacina_dataAplicacao vacina_descricao_dose  vacina_codigo  \\\n",
       "0           2021-08-11               1ª Dose             87   \n",
       "1           2022-07-20            2º Reforço             85   \n",
       "2           2021-09-11               1ª Dose             87   \n",
       "3           2022-08-02            2º Reforço             87   \n",
       "4           2022-06-21               Reforço             85   \n",
       "\n",
       "                                 vacina_nome sistema_origem  \n",
       "0                COVID-19 PFIZER - COMIRNATY       Novo PNI  \n",
       "1  COVID-19 ASTRAZENECA/FIOCRUZ - COVISHIELD       Novo PNI  \n",
       "2                COVID-19 PFIZER - COMIRNATY       Novo PNI  \n",
       "3                COVID-19 PFIZER - COMIRNATY       Novo PNI  \n",
       "4  COVID-19 ASTRAZENECA/FIOCRUZ - COVISHIELD       Novo PNI  \n",
       "\n",
       "[5 rows x 32 columns]"
      ]
     },
     "execution_count": 31,
     "metadata": {},
     "output_type": "execute_result"
    }
   ],
   "source": [
    "# 1) Sua solução aqui\n",
    "df = pd.read_csv(r'G:\\Downloads\\VacinasAcre.csv', sep=';')\n",
    "df.head(5)\n"
   ]
  },
  {
   "cell_type": "code",
   "execution_count": 33,
   "metadata": {},
   "outputs": [
    {
     "name": "stdout",
     "output_type": "stream",
     "text": [
      "Index(['document_id', 'paciente_id', 'paciente_idade',\n",
      "       'paciente_dataNascimento', 'paciente_enumSexoBiologico',\n",
      "       'paciente_racaCor_codigo', 'paciente_racaCor_valor',\n",
      "       'paciente_endereco_coIbgeMunicipio', 'paciente_endereco_coPais',\n",
      "       'paciente_endereco_nmMunicipio', 'paciente_endereco_nmPais',\n",
      "       'paciente_endereco_uf', 'paciente_endereco_cep',\n",
      "       'paciente_nacionalidade_enumNacionalidade', 'estabelecimento_valor',\n",
      "       'estabelecimento_razaoSocial', 'estalecimento_noFantasia',\n",
      "       'estabelecimento_municipio_codigo', 'estabelecimento_municipio_nome',\n",
      "       'estabelecimento_uf', 'vacina_grupoAtendimento_codigo',\n",
      "       'vacina_grupoAtendimento_nome', 'vacina_categoria_codigo',\n",
      "       'vacina_categoria_nome', 'vacina_lote', 'vacina_fabricante_nome',\n",
      "       'vacina_fabricante_referencia', 'vacina_dataAplicacao',\n",
      "       'vacina_descricao_dose', 'vacina_codigo', 'vacina_nome',\n",
      "       'sistema_origem'],\n",
      "      dtype='object')\n",
      "Total de pacientes vacinados: 316516\n"
     ]
    }
   ],
   "source": [
    "# 2) Quantos pacientes foram vacinados? (considere um paciente para cada valor único de paciente_id)\n",
    "\n",
    "print(df.columns)\n",
    "\n",
    "# Ajustar o código conforme o nome correto da coluna\n",
    "num_pacientes = df['paciente_id'].nunique()\n",
    "print(f\"Total de pacientes vacinados: {num_pacientes}\")"
   ]
  },
  {
   "cell_type": "code",
   "execution_count": 35,
   "metadata": {},
   "outputs": [
    {
     "name": "stdout",
     "output_type": "stream",
     "text": [
      "Pacientes únicos que tomaram a primeira dose: 143582\n"
     ]
    }
   ],
   "source": [
    "# 3) Quantos pacientes únicos tomaram a primeira dose? (Considerar possível caractere especial)\n",
    "primeira_dose = df[df['vacina_descricao_dose'].str.contains('1ª Dose', na=False)]['paciente_id'].nunique()\n",
    "print(f\"Pacientes únicos que tomaram a primeira dose: {primeira_dose}\")"
   ]
  },
  {
   "cell_type": "code",
   "execution_count": 37,
   "metadata": {},
   "outputs": [
    {
     "data": {
      "text/plain": [
       "68260"
      ]
     },
     "execution_count": 37,
     "metadata": {},
     "output_type": "execute_result"
    }
   ],
   "source": [
    "# 4) Quantos pacientes com menos de 18 anos foram vacinados?  \n",
    "\n",
    "df_menor = df[df[\"paciente_idade\"]<18]\n",
    "df_menor['paciente_id'].nunique()"
   ]
  },
  {
   "cell_type": "code",
   "execution_count": 57,
   "metadata": {},
   "outputs": [
    {
     "data": {
      "text/plain": [
       "62"
      ]
     },
     "execution_count": 57,
     "metadata": {},
     "output_type": "execute_result"
    }
   ],
   "source": [
    "# 5) Quantos estabelecimentos aplicaram vacina no Acre?\n",
    "\n",
    "df['estabelecimento_razaoSocial'].nunique()"
   ]
  },
  {
   "cell_type": "markdown",
   "metadata": {},
   "source": [
    "## 4) Vacinação II\n",
    "Gere um *DataFrame* que contenha somente os estabelecimentos que aplicaram vcinas a menores de 18 anos. Nesse *DataFrame* devem conter somente os dados dos estabelecimentos, mais uma coluna sendo a quantidade de vacinas que o estabelecimento aplicou a menores de 18 anos.  \n",
    "  \n",
    "1. crie uma cópia do *DataFrame* original, contendo somente os registros de vacinas realizadas a menores de 18 anos.  \n",
    "2. crie uma lista das colunas desse *DataFrame* com o atributo de *DataFrame* **.columns()**  \n",
    "3. Nesse *DataFrame* faça uma contagem do campo ```vacina_categoria_nome```.\n",
    "3. a partir da lista de colunas, escolha somente aquelas que são referentes ao estabelecimento, faça uma lista com esses valores.  \n",
    "4. usando o método *.loc*, selecione somente essas variáveis  \n",
    "5. Aplique o método **.drop_duplicates** e crie uma lista com uma linha para cada estabelecimento, com os dados do estabelecimento  "
   ]
  },
  {
   "cell_type": "code",
   "execution_count": 43,
   "metadata": {},
   "outputs": [],
   "source": [
    "# 1) Crie uma cópia do *DataFrame* original, contendo somente os registros de vacinas realizadas a menores de 18 anos.  \n",
    "\n",
    "df_menor = df[df[\"paciente_idade\"]<18].copy()"
   ]
  },
  {
   "cell_type": "code",
   "execution_count": 45,
   "metadata": {},
   "outputs": [
    {
     "data": {
      "text/plain": [
       "Index(['document_id', 'paciente_id', 'paciente_idade',\n",
       "       'paciente_dataNascimento', 'paciente_enumSexoBiologico',\n",
       "       'paciente_racaCor_codigo', 'paciente_racaCor_valor',\n",
       "       'paciente_endereco_coIbgeMunicipio', 'paciente_endereco_coPais',\n",
       "       'paciente_endereco_nmMunicipio', 'paciente_endereco_nmPais',\n",
       "       'paciente_endereco_uf', 'paciente_endereco_cep',\n",
       "       'paciente_nacionalidade_enumNacionalidade', 'estabelecimento_valor',\n",
       "       'estabelecimento_razaoSocial', 'estalecimento_noFantasia',\n",
       "       'estabelecimento_municipio_codigo', 'estabelecimento_municipio_nome',\n",
       "       'estabelecimento_uf', 'vacina_grupoAtendimento_codigo',\n",
       "       'vacina_grupoAtendimento_nome', 'vacina_categoria_codigo',\n",
       "       'vacina_categoria_nome', 'vacina_lote', 'vacina_fabricante_nome',\n",
       "       'vacina_fabricante_referencia', 'vacina_dataAplicacao',\n",
       "       'vacina_descricao_dose', 'vacina_codigo', 'vacina_nome',\n",
       "       'sistema_origem'],\n",
       "      dtype='object')"
      ]
     },
     "execution_count": 45,
     "metadata": {},
     "output_type": "execute_result"
    }
   ],
   "source": [
    "# 2) Crie uma lista das colunas desse *DataFrame* com o atributo de *DataFrame* **.columns()**  \n",
    "\n",
    "df_menor.columns"
   ]
  },
  {
   "cell_type": "code",
   "execution_count": 47,
   "metadata": {},
   "outputs": [
    {
     "data": {
      "text/plain": [
       "vacina_categoria_nome\n",
       "Faixa Etária                                      47564\n",
       "Povos Indígenas                                    4669\n",
       "Outros                                             3755\n",
       "Povos e Comunidades Tradicionais                    820\n",
       "Trabalhadores de Saúde                              254\n",
       "Comorbidades                                         56\n",
       "População Privada de Liberdade                       53\n",
       "Gestantes                                            42\n",
       "Pessoas com Deficiência                              11\n",
       "Pessoas Institucionalizadas                           3\n",
       "Trabalhadores da Educação                             2\n",
       "Pessoas de 60 anos ou mais institucionalizadas        1\n",
       "Puérperas                                             1\n",
       "Name: count, dtype: int64"
      ]
     },
     "execution_count": 47,
     "metadata": {},
     "output_type": "execute_result"
    }
   ],
   "source": [
    "# 3) Nesse *DataFrame* faça uma contagem do campo ```vacina_categoria_nome```.\n",
    "# A partir da lista de colunas, escolha somente aquelas que são referentes ao estabelecimento, faça uma lista com esses valores.  \n",
    "\n",
    "\n",
    "df_menor['vacina_categoria_nome'].value_counts()"
   ]
  },
  {
   "cell_type": "code",
   "execution_count": 59,
   "metadata": {},
   "outputs": [],
   "source": [
    "# 4) Usando o método *.loc*, selecione somente essas variáveis  \n",
    "\n",
    "lista_variaveis = ['estabelecimento_valor',\n",
    "       'estabelecimento_razaoSocial', 'estalecimento_noFantasia',\n",
    "       'estabelecimento_municipio_codigo', 'estabelecimento_municipio_nome',\n",
    "       'estabelecimento_uf']\n",
    "df_menor_lista = df_menor.loc[:,lista_variaveis]"
   ]
  },
  {
   "cell_type": "code",
   "execution_count": 61,
   "metadata": {},
   "outputs": [
    {
     "data": {
      "text/plain": [
       "(204, 6)"
      ]
     },
     "execution_count": 61,
     "metadata": {},
     "output_type": "execute_result"
    }
   ],
   "source": [
    "# 5) Aplique o método **.drop_duplicates** e crie uma lista com uma linha para cada estabelecimento, com os dados do estabelecimento  \n",
    "df_menor_lista = df_menor_lista.drop_duplicates()\n",
    "df_menor_lista.shape"
   ]
  }
 ],
 "metadata": {
  "kernelspec": {
   "display_name": "Python 3 (ipykernel)",
   "language": "python",
   "name": "python3"
  },
  "language_info": {
   "codemirror_mode": {
    "name": "ipython",
    "version": 3
   },
   "file_extension": ".py",
   "mimetype": "text/x-python",
   "name": "python",
   "nbconvert_exporter": "python",
   "pygments_lexer": "ipython3",
   "version": "3.11.7"
  },
  "toc": {
   "base_numbering": 1,
   "nav_menu": {},
   "number_sections": false,
   "sideBar": true,
   "skip_h1_title": true,
   "title_cell": "Índice",
   "title_sidebar": "Conteúdo",
   "toc_cell": false,
   "toc_position": {},
   "toc_section_display": true,
   "toc_window_display": false
  },
  "varInspector": {
   "cols": {
    "lenName": 16,
    "lenType": 16,
    "lenVar": 40
   },
   "kernels_config": {
    "python": {
     "delete_cmd_postfix": "",
     "delete_cmd_prefix": "del ",
     "library": "var_list.py",
     "varRefreshCmd": "print(var_dic_list())"
    },
    "r": {
     "delete_cmd_postfix": ") ",
     "delete_cmd_prefix": "rm(",
     "library": "var_list.r",
     "varRefreshCmd": "cat(var_dic_list()) "
    }
   },
   "types_to_exclude": [
    "module",
    "function",
    "builtin_function_or_method",
    "instance",
    "_Feature"
   ],
   "window_display": false
  }
 },
 "nbformat": 4,
 "nbformat_minor": 4
}
